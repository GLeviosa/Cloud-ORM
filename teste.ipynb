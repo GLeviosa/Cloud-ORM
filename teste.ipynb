{
 "cells": [
  {
   "cell_type": "code",
   "execution_count": 1,
   "metadata": {},
   "outputs": [],
   "source": [
    "import boto3"
   ]
  },
  {
   "cell_type": "code",
   "execution_count": 2,
   "metadata": {},
   "outputs": [],
   "source": [
    "ec2 = boto3.client('ec2')"
   ]
  },
  {
   "cell_type": "code",
   "execution_count": 4,
   "metadata": {},
   "outputs": [
    {
     "data": {
      "text/plain": [
       "{'Reservations': [{'Groups': [],\n",
       "   'Instances': [{'AmiLaunchIndex': 0,\n",
       "     'ImageId': 'ami-020db2c14939a8efb',\n",
       "     'InstanceId': 'i-0298c3134262c18a8',\n",
       "     'InstanceType': 't2.micro',\n",
       "     'KeyName': 'victor_key',\n",
       "     'LaunchTime': datetime.datetime(2021, 11, 23, 18, 3, 40, tzinfo=tzutc()),\n",
       "     'Monitoring': {'State': 'disabled'},\n",
       "     'Placement': {'AvailabilityZone': 'us-east-2a',\n",
       "      'GroupName': '',\n",
       "      'Tenancy': 'default'},\n",
       "     'PrivateDnsName': 'ip-172-31-12-218.us-east-2.compute.internal',\n",
       "     'PrivateIpAddress': '172.31.12.218',\n",
       "     'ProductCodes': [],\n",
       "     'PublicDnsName': 'ec2-18-219-227-195.us-east-2.compute.amazonaws.com',\n",
       "     'PublicIpAddress': '18.219.227.195',\n",
       "     'State': {'Code': 16, 'Name': 'running'},\n",
       "     'StateTransitionReason': '',\n",
       "     'SubnetId': 'subnet-5fdf8737',\n",
       "     'VpcId': 'vpc-67fdcd0f',\n",
       "     'Architecture': 'x86_64',\n",
       "     'BlockDeviceMappings': [{'DeviceName': '/dev/sda1',\n",
       "       'Ebs': {'AttachTime': datetime.datetime(2021, 11, 23, 18, 3, 41, tzinfo=tzutc()),\n",
       "        'DeleteOnTermination': True,\n",
       "        'Status': 'attached',\n",
       "        'VolumeId': 'vol-024a77124279a1805'}},\n",
       "      {'DeviceName': '/dev/xvda',\n",
       "       'Ebs': {'AttachTime': datetime.datetime(2021, 11, 23, 18, 3, 41, tzinfo=tzutc()),\n",
       "        'DeleteOnTermination': True,\n",
       "        'Status': 'attached',\n",
       "        'VolumeId': 'vol-0fde9f78955a1c363'}}],\n",
       "     'ClientToken': '04015f9d-fbc0-431f-a46f-0d3df90aa447',\n",
       "     'EbsOptimized': False,\n",
       "     'EnaSupport': True,\n",
       "     'Hypervisor': 'xen',\n",
       "     'NetworkInterfaces': [{'Association': {'IpOwnerId': 'amazon',\n",
       "        'PublicDnsName': 'ec2-18-219-227-195.us-east-2.compute.amazonaws.com',\n",
       "        'PublicIp': '18.219.227.195'},\n",
       "       'Attachment': {'AttachTime': datetime.datetime(2021, 11, 23, 18, 3, 40, tzinfo=tzutc()),\n",
       "        'AttachmentId': 'eni-attach-0179d027d39e8559a',\n",
       "        'DeleteOnTermination': True,\n",
       "        'DeviceIndex': 0,\n",
       "        'Status': 'attached',\n",
       "        'NetworkCardIndex': 0},\n",
       "       'Description': '',\n",
       "       'Groups': [{'GroupName': 'SecurityBrabo',\n",
       "         'GroupId': 'sg-07a95425e6a80ed46'}],\n",
       "       'Ipv6Addresses': [],\n",
       "       'MacAddress': '02:2b:54:27:33:b6',\n",
       "       'NetworkInterfaceId': 'eni-0295bd4cf5ceba862',\n",
       "       'OwnerId': '244736565328',\n",
       "       'PrivateDnsName': 'ip-172-31-12-218.us-east-2.compute.internal',\n",
       "       'PrivateIpAddress': '172.31.12.218',\n",
       "       'PrivateIpAddresses': [{'Association': {'IpOwnerId': 'amazon',\n",
       "          'PublicDnsName': 'ec2-18-219-227-195.us-east-2.compute.amazonaws.com',\n",
       "          'PublicIp': '18.219.227.195'},\n",
       "         'Primary': True,\n",
       "         'PrivateDnsName': 'ip-172-31-12-218.us-east-2.compute.internal',\n",
       "         'PrivateIpAddress': '172.31.12.218'}],\n",
       "       'SourceDestCheck': True,\n",
       "       'Status': 'in-use',\n",
       "       'SubnetId': 'subnet-5fdf8737',\n",
       "       'VpcId': 'vpc-67fdcd0f',\n",
       "       'InterfaceType': 'interface'}],\n",
       "     'RootDeviceName': '/dev/sda1',\n",
       "     'RootDeviceType': 'ebs',\n",
       "     'SecurityGroups': [{'GroupName': 'SecurityBrabo',\n",
       "       'GroupId': 'sg-07a95425e6a80ed46'}],\n",
       "     'SourceDestCheck': True,\n",
       "     'Tags': [{'Key': 'Name', 'Value': 'Victor'}],\n",
       "     'VirtualizationType': 'hvm',\n",
       "     'CpuOptions': {'CoreCount': 1, 'ThreadsPerCore': 1},\n",
       "     'CapacityReservationSpecification': {'CapacityReservationPreference': 'open'},\n",
       "     'HibernationOptions': {'Configured': False},\n",
       "     'MetadataOptions': {'State': 'applied',\n",
       "      'HttpTokens': 'optional',\n",
       "      'HttpPutResponseHopLimit': 1,\n",
       "      'HttpEndpoint': 'enabled',\n",
       "      'HttpProtocolIpv6': 'disabled'},\n",
       "     'EnclaveOptions': {'Enabled': False},\n",
       "     'PlatformDetails': 'Linux/UNIX',\n",
       "     'UsageOperation': 'RunInstances',\n",
       "     'UsageOperationUpdateTime': datetime.datetime(2021, 11, 23, 18, 3, 40, tzinfo=tzutc())}],\n",
       "   'OwnerId': '244736565328',\n",
       "   'ReservationId': 'r-00e57b9164fca0fff'},\n",
       "  {'Groups': [],\n",
       "   'Instances': [{'AmiLaunchIndex': 0,\n",
       "     'ImageId': 'ami-020db2c14939a8efb',\n",
       "     'InstanceId': 'i-0ed481d4a32e61368',\n",
       "     'InstanceType': 't2.micro',\n",
       "     'KeyName': 'key-g',\n",
       "     'LaunchTime': datetime.datetime(2021, 11, 23, 18, 5, 19, tzinfo=tzutc()),\n",
       "     'Monitoring': {'State': 'disabled'},\n",
       "     'Placement': {'AvailabilityZone': 'us-east-2a',\n",
       "      'GroupName': '',\n",
       "      'Tenancy': 'default'},\n",
       "     'PrivateDnsName': 'ip-172-31-4-140.us-east-2.compute.internal',\n",
       "     'PrivateIpAddress': '172.31.4.140',\n",
       "     'ProductCodes': [],\n",
       "     'PublicDnsName': 'ec2-3-14-247-17.us-east-2.compute.amazonaws.com',\n",
       "     'PublicIpAddress': '3.14.247.17',\n",
       "     'State': {'Code': 16, 'Name': 'running'},\n",
       "     'StateTransitionReason': '',\n",
       "     'SubnetId': 'subnet-5fdf8737',\n",
       "     'VpcId': 'vpc-67fdcd0f',\n",
       "     'Architecture': 'x86_64',\n",
       "     'BlockDeviceMappings': [{'DeviceName': '/dev/sda1',\n",
       "       'Ebs': {'AttachTime': datetime.datetime(2021, 11, 23, 18, 5, 20, tzinfo=tzutc()),\n",
       "        'DeleteOnTermination': True,\n",
       "        'Status': 'attached',\n",
       "        'VolumeId': 'vol-0f4fb6e1576f78dc9'}},\n",
       "      {'DeviceName': '/dev/xvda',\n",
       "       'Ebs': {'AttachTime': datetime.datetime(2021, 11, 23, 18, 5, 20, tzinfo=tzutc()),\n",
       "        'DeleteOnTermination': True,\n",
       "        'Status': 'attached',\n",
       "        'VolumeId': 'vol-0a6f13407409ab75a'}}],\n",
       "     'ClientToken': '32912774-82aa-4074-bbae-c20295c54962',\n",
       "     'EbsOptimized': False,\n",
       "     'EnaSupport': True,\n",
       "     'Hypervisor': 'xen',\n",
       "     'NetworkInterfaces': [{'Association': {'IpOwnerId': 'amazon',\n",
       "        'PublicDnsName': 'ec2-3-14-247-17.us-east-2.compute.amazonaws.com',\n",
       "        'PublicIp': '3.14.247.17'},\n",
       "       'Attachment': {'AttachTime': datetime.datetime(2021, 11, 23, 18, 5, 19, tzinfo=tzutc()),\n",
       "        'AttachmentId': 'eni-attach-0357e3372399b7a31',\n",
       "        'DeleteOnTermination': True,\n",
       "        'DeviceIndex': 0,\n",
       "        'Status': 'attached',\n",
       "        'NetworkCardIndex': 0},\n",
       "       'Description': '',\n",
       "       'Groups': [{'GroupName': 'generic-group',\n",
       "         'GroupId': 'sg-0bf139019207046fb'}],\n",
       "       'Ipv6Addresses': [],\n",
       "       'MacAddress': '02:e5:77:57:38:26',\n",
       "       'NetworkInterfaceId': 'eni-0bffba6990db1daad',\n",
       "       'OwnerId': '244736565328',\n",
       "       'PrivateDnsName': 'ip-172-31-4-140.us-east-2.compute.internal',\n",
       "       'PrivateIpAddress': '172.31.4.140',\n",
       "       'PrivateIpAddresses': [{'Association': {'IpOwnerId': 'amazon',\n",
       "          'PublicDnsName': 'ec2-3-14-247-17.us-east-2.compute.amazonaws.com',\n",
       "          'PublicIp': '3.14.247.17'},\n",
       "         'Primary': True,\n",
       "         'PrivateDnsName': 'ip-172-31-4-140.us-east-2.compute.internal',\n",
       "         'PrivateIpAddress': '172.31.4.140'}],\n",
       "       'SourceDestCheck': True,\n",
       "       'Status': 'in-use',\n",
       "       'SubnetId': 'subnet-5fdf8737',\n",
       "       'VpcId': 'vpc-67fdcd0f',\n",
       "       'InterfaceType': 'interface'}],\n",
       "     'RootDeviceName': '/dev/sda1',\n",
       "     'RootDeviceType': 'ebs',\n",
       "     'SecurityGroups': [{'GroupName': 'generic-group',\n",
       "       'GroupId': 'sg-0bf139019207046fb'}],\n",
       "     'SourceDestCheck': True,\n",
       "     'VirtualizationType': 'hvm',\n",
       "     'CpuOptions': {'CoreCount': 1, 'ThreadsPerCore': 1},\n",
       "     'CapacityReservationSpecification': {'CapacityReservationPreference': 'open'},\n",
       "     'HibernationOptions': {'Configured': False},\n",
       "     'MetadataOptions': {'State': 'applied',\n",
       "      'HttpTokens': 'optional',\n",
       "      'HttpPutResponseHopLimit': 1,\n",
       "      'HttpEndpoint': 'enabled',\n",
       "      'HttpProtocolIpv6': 'disabled'},\n",
       "     'EnclaveOptions': {'Enabled': False},\n",
       "     'PlatformDetails': 'Linux/UNIX',\n",
       "     'UsageOperation': 'RunInstances',\n",
       "     'UsageOperationUpdateTime': datetime.datetime(2021, 11, 23, 18, 5, 19, tzinfo=tzutc())}],\n",
       "   'OwnerId': '244736565328',\n",
       "   'ReservationId': 'r-0680e7c9353418a14'}],\n",
       " 'ResponseMetadata': {'RequestId': '2346157e-17af-4e8d-bb9f-8b5f34a6aa68',\n",
       "  'HTTPStatusCode': 200,\n",
       "  'HTTPHeaders': {'x-amzn-requestid': '2346157e-17af-4e8d-bb9f-8b5f34a6aa68',\n",
       "   'cache-control': 'no-cache, no-store',\n",
       "   'strict-transport-security': 'max-age=31536000; includeSubDomains',\n",
       "   'vary': 'accept-encoding',\n",
       "   'content-type': 'text/xml;charset=UTF-8',\n",
       "   'transfer-encoding': 'chunked',\n",
       "   'date': 'Tue, 23 Nov 2021 18:43:00 GMT',\n",
       "   'server': 'AmazonEC2'},\n",
       "  'RetryAttempts': 0}}"
      ]
     },
     "execution_count": 4,
     "metadata": {},
     "output_type": "execute_result"
    }
   ],
   "source": [
    "ec2.describe_instances()"
   ]
  },
  {
   "cell_type": "code",
   "execution_count": 3,
   "metadata": {},
   "outputs": [],
   "source": [
    "resp = ec2.describe_security_groups()"
   ]
  },
  {
   "cell_type": "code",
   "execution_count": 11,
   "metadata": {},
   "outputs": [
    {
     "data": {
      "text/plain": [
       "'vpc-67fdcd0f'"
      ]
     },
     "execution_count": 11,
     "metadata": {},
     "output_type": "execute_result"
    }
   ],
   "source": [
    "resp[\"SecurityGroups\"][0][\"VpcId\"]"
   ]
  },
  {
   "cell_type": "code",
   "execution_count": 5,
   "metadata": {},
   "outputs": [],
   "source": [
    "ec2_resource = boto3.resource('ec2')"
   ]
  },
  {
   "cell_type": "code",
   "execution_count": 12,
   "metadata": {},
   "outputs": [],
   "source": [
    "resp = ec2.create_key_pair(KeyName = 'Levis')"
   ]
  },
  {
   "cell_type": "code",
   "execution_count": 13,
   "metadata": {},
   "outputs": [],
   "source": [
    "file = open('Levis.pem', 'w')\n",
    "file.write(resp['KeyMaterial'])\n",
    "file.close()"
   ]
  },
  {
   "cell_type": "code",
   "execution_count": 9,
   "metadata": {},
   "outputs": [
    {
     "data": {
      "text/plain": [
       "{'Reservations': [{'Groups': [],\n",
       "   'Instances': [{'AmiLaunchIndex': 0,\n",
       "     'ImageId': 'ami-020db2c14939a8efb',\n",
       "     'InstanceId': 'i-0298c3134262c18a8',\n",
       "     'InstanceType': 't2.micro',\n",
       "     'KeyName': 'victor_key',\n",
       "     'LaunchTime': datetime.datetime(2021, 11, 23, 18, 3, 40, tzinfo=tzutc()),\n",
       "     'Monitoring': {'State': 'disabled'},\n",
       "     'Placement': {'AvailabilityZone': 'us-east-2a',\n",
       "      'GroupName': '',\n",
       "      'Tenancy': 'default'},\n",
       "     'PrivateDnsName': 'ip-172-31-12-218.us-east-2.compute.internal',\n",
       "     'PrivateIpAddress': '172.31.12.218',\n",
       "     'ProductCodes': [],\n",
       "     'PublicDnsName': 'ec2-18-219-227-195.us-east-2.compute.amazonaws.com',\n",
       "     'PublicIpAddress': '18.219.227.195',\n",
       "     'State': {'Code': 16, 'Name': 'running'},\n",
       "     'StateTransitionReason': '',\n",
       "     'SubnetId': 'subnet-5fdf8737',\n",
       "     'VpcId': 'vpc-67fdcd0f',\n",
       "     'Architecture': 'x86_64',\n",
       "     'BlockDeviceMappings': [{'DeviceName': '/dev/sda1',\n",
       "       'Ebs': {'AttachTime': datetime.datetime(2021, 11, 23, 18, 3, 41, tzinfo=tzutc()),\n",
       "        'DeleteOnTermination': True,\n",
       "        'Status': 'attached',\n",
       "        'VolumeId': 'vol-024a77124279a1805'}},\n",
       "      {'DeviceName': '/dev/xvda',\n",
       "       'Ebs': {'AttachTime': datetime.datetime(2021, 11, 23, 18, 3, 41, tzinfo=tzutc()),\n",
       "        'DeleteOnTermination': True,\n",
       "        'Status': 'attached',\n",
       "        'VolumeId': 'vol-0fde9f78955a1c363'}}],\n",
       "     'ClientToken': '04015f9d-fbc0-431f-a46f-0d3df90aa447',\n",
       "     'EbsOptimized': False,\n",
       "     'EnaSupport': True,\n",
       "     'Hypervisor': 'xen',\n",
       "     'NetworkInterfaces': [{'Association': {'IpOwnerId': 'amazon',\n",
       "        'PublicDnsName': 'ec2-18-219-227-195.us-east-2.compute.amazonaws.com',\n",
       "        'PublicIp': '18.219.227.195'},\n",
       "       'Attachment': {'AttachTime': datetime.datetime(2021, 11, 23, 18, 3, 40, tzinfo=tzutc()),\n",
       "        'AttachmentId': 'eni-attach-0179d027d39e8559a',\n",
       "        'DeleteOnTermination': True,\n",
       "        'DeviceIndex': 0,\n",
       "        'Status': 'attached',\n",
       "        'NetworkCardIndex': 0},\n",
       "       'Description': '',\n",
       "       'Groups': [{'GroupName': 'SecurityBrabo',\n",
       "         'GroupId': 'sg-07a95425e6a80ed46'}],\n",
       "       'Ipv6Addresses': [],\n",
       "       'MacAddress': '02:2b:54:27:33:b6',\n",
       "       'NetworkInterfaceId': 'eni-0295bd4cf5ceba862',\n",
       "       'OwnerId': '244736565328',\n",
       "       'PrivateDnsName': 'ip-172-31-12-218.us-east-2.compute.internal',\n",
       "       'PrivateIpAddress': '172.31.12.218',\n",
       "       'PrivateIpAddresses': [{'Association': {'IpOwnerId': 'amazon',\n",
       "          'PublicDnsName': 'ec2-18-219-227-195.us-east-2.compute.amazonaws.com',\n",
       "          'PublicIp': '18.219.227.195'},\n",
       "         'Primary': True,\n",
       "         'PrivateDnsName': 'ip-172-31-12-218.us-east-2.compute.internal',\n",
       "         'PrivateIpAddress': '172.31.12.218'}],\n",
       "       'SourceDestCheck': True,\n",
       "       'Status': 'in-use',\n",
       "       'SubnetId': 'subnet-5fdf8737',\n",
       "       'VpcId': 'vpc-67fdcd0f',\n",
       "       'InterfaceType': 'interface'}],\n",
       "     'RootDeviceName': '/dev/sda1',\n",
       "     'RootDeviceType': 'ebs',\n",
       "     'SecurityGroups': [{'GroupName': 'SecurityBrabo',\n",
       "       'GroupId': 'sg-07a95425e6a80ed46'}],\n",
       "     'SourceDestCheck': True,\n",
       "     'Tags': [{'Key': 'Name', 'Value': 'Victor'}],\n",
       "     'VirtualizationType': 'hvm',\n",
       "     'CpuOptions': {'CoreCount': 1, 'ThreadsPerCore': 1},\n",
       "     'CapacityReservationSpecification': {'CapacityReservationPreference': 'open'},\n",
       "     'HibernationOptions': {'Configured': False},\n",
       "     'MetadataOptions': {'State': 'applied',\n",
       "      'HttpTokens': 'optional',\n",
       "      'HttpPutResponseHopLimit': 1,\n",
       "      'HttpEndpoint': 'enabled',\n",
       "      'HttpProtocolIpv6': 'disabled'},\n",
       "     'EnclaveOptions': {'Enabled': False},\n",
       "     'PlatformDetails': 'Linux/UNIX',\n",
       "     'UsageOperation': 'RunInstances',\n",
       "     'UsageOperationUpdateTime': datetime.datetime(2021, 11, 23, 18, 3, 40, tzinfo=tzutc())}],\n",
       "   'OwnerId': '244736565328',\n",
       "   'ReservationId': 'r-00e57b9164fca0fff'},\n",
       "  {'Groups': [],\n",
       "   'Instances': [{'AmiLaunchIndex': 0,\n",
       "     'ImageId': 'ami-020db2c14939a8efb',\n",
       "     'InstanceId': 'i-0ed481d4a32e61368',\n",
       "     'InstanceType': 't2.micro',\n",
       "     'KeyName': 'key-g',\n",
       "     'LaunchTime': datetime.datetime(2021, 11, 23, 18, 5, 19, tzinfo=tzutc()),\n",
       "     'Monitoring': {'State': 'disabled'},\n",
       "     'Placement': {'AvailabilityZone': 'us-east-2a',\n",
       "      'GroupName': '',\n",
       "      'Tenancy': 'default'},\n",
       "     'PrivateDnsName': 'ip-172-31-4-140.us-east-2.compute.internal',\n",
       "     'PrivateIpAddress': '172.31.4.140',\n",
       "     'ProductCodes': [],\n",
       "     'PublicDnsName': 'ec2-3-14-247-17.us-east-2.compute.amazonaws.com',\n",
       "     'PublicIpAddress': '3.14.247.17',\n",
       "     'State': {'Code': 16, 'Name': 'running'},\n",
       "     'StateTransitionReason': '',\n",
       "     'SubnetId': 'subnet-5fdf8737',\n",
       "     'VpcId': 'vpc-67fdcd0f',\n",
       "     'Architecture': 'x86_64',\n",
       "     'BlockDeviceMappings': [{'DeviceName': '/dev/sda1',\n",
       "       'Ebs': {'AttachTime': datetime.datetime(2021, 11, 23, 18, 5, 20, tzinfo=tzutc()),\n",
       "        'DeleteOnTermination': True,\n",
       "        'Status': 'attached',\n",
       "        'VolumeId': 'vol-0f4fb6e1576f78dc9'}},\n",
       "      {'DeviceName': '/dev/xvda',\n",
       "       'Ebs': {'AttachTime': datetime.datetime(2021, 11, 23, 18, 5, 20, tzinfo=tzutc()),\n",
       "        'DeleteOnTermination': True,\n",
       "        'Status': 'attached',\n",
       "        'VolumeId': 'vol-0a6f13407409ab75a'}}],\n",
       "     'ClientToken': '32912774-82aa-4074-bbae-c20295c54962',\n",
       "     'EbsOptimized': False,\n",
       "     'EnaSupport': True,\n",
       "     'Hypervisor': 'xen',\n",
       "     'NetworkInterfaces': [{'Association': {'IpOwnerId': 'amazon',\n",
       "        'PublicDnsName': 'ec2-3-14-247-17.us-east-2.compute.amazonaws.com',\n",
       "        'PublicIp': '3.14.247.17'},\n",
       "       'Attachment': {'AttachTime': datetime.datetime(2021, 11, 23, 18, 5, 19, tzinfo=tzutc()),\n",
       "        'AttachmentId': 'eni-attach-0357e3372399b7a31',\n",
       "        'DeleteOnTermination': True,\n",
       "        'DeviceIndex': 0,\n",
       "        'Status': 'attached',\n",
       "        'NetworkCardIndex': 0},\n",
       "       'Description': '',\n",
       "       'Groups': [{'GroupName': 'generic-group',\n",
       "         'GroupId': 'sg-0bf139019207046fb'}],\n",
       "       'Ipv6Addresses': [],\n",
       "       'MacAddress': '02:e5:77:57:38:26',\n",
       "       'NetworkInterfaceId': 'eni-0bffba6990db1daad',\n",
       "       'OwnerId': '244736565328',\n",
       "       'PrivateDnsName': 'ip-172-31-4-140.us-east-2.compute.internal',\n",
       "       'PrivateIpAddress': '172.31.4.140',\n",
       "       'PrivateIpAddresses': [{'Association': {'IpOwnerId': 'amazon',\n",
       "          'PublicDnsName': 'ec2-3-14-247-17.us-east-2.compute.amazonaws.com',\n",
       "          'PublicIp': '3.14.247.17'},\n",
       "         'Primary': True,\n",
       "         'PrivateDnsName': 'ip-172-31-4-140.us-east-2.compute.internal',\n",
       "         'PrivateIpAddress': '172.31.4.140'}],\n",
       "       'SourceDestCheck': True,\n",
       "       'Status': 'in-use',\n",
       "       'SubnetId': 'subnet-5fdf8737',\n",
       "       'VpcId': 'vpc-67fdcd0f',\n",
       "       'InterfaceType': 'interface'}],\n",
       "     'RootDeviceName': '/dev/sda1',\n",
       "     'RootDeviceType': 'ebs',\n",
       "     'SecurityGroups': [{'GroupName': 'generic-group',\n",
       "       'GroupId': 'sg-0bf139019207046fb'}],\n",
       "     'SourceDestCheck': True,\n",
       "     'VirtualizationType': 'hvm',\n",
       "     'CpuOptions': {'CoreCount': 1, 'ThreadsPerCore': 1},\n",
       "     'CapacityReservationSpecification': {'CapacityReservationPreference': 'open'},\n",
       "     'HibernationOptions': {'Configured': False},\n",
       "     'MetadataOptions': {'State': 'applied',\n",
       "      'HttpTokens': 'optional',\n",
       "      'HttpPutResponseHopLimit': 1,\n",
       "      'HttpEndpoint': 'enabled',\n",
       "      'HttpProtocolIpv6': 'disabled'},\n",
       "     'EnclaveOptions': {'Enabled': False},\n",
       "     'PlatformDetails': 'Linux/UNIX',\n",
       "     'UsageOperation': 'RunInstances',\n",
       "     'UsageOperationUpdateTime': datetime.datetime(2021, 11, 23, 18, 5, 19, tzinfo=tzutc())}],\n",
       "   'OwnerId': '244736565328',\n",
       "   'ReservationId': 'r-0680e7c9353418a14'}],\n",
       " 'ResponseMetadata': {'RequestId': 'c85ef950-d425-498a-b52f-b648263850c8',\n",
       "  'HTTPStatusCode': 200,\n",
       "  'HTTPHeaders': {'x-amzn-requestid': 'c85ef950-d425-498a-b52f-b648263850c8',\n",
       "   'cache-control': 'no-cache, no-store',\n",
       "   'strict-transport-security': 'max-age=31536000; includeSubDomains',\n",
       "   'vary': 'accept-encoding',\n",
       "   'content-type': 'text/xml;charset=UTF-8',\n",
       "   'transfer-encoding': 'chunked',\n",
       "   'date': 'Tue, 23 Nov 2021 18:08:17 GMT',\n",
       "   'server': 'AmazonEC2'},\n",
       "  'RetryAttempts': 0}}"
      ]
     },
     "execution_count": 9,
     "metadata": {},
     "output_type": "execute_result"
    }
   ],
   "source": [
    "ec2.describe_instances()"
   ]
  },
  {
   "cell_type": "code",
   "execution_count": 13,
   "metadata": {},
   "outputs": [],
   "source": [
    "response = ec2.describe_key_pairs(Filters=[\n",
    "            {\n",
    "                'Name': 'key-name',\n",
    "                'Values': [\"Levs\"]\n",
    "            },\n",
    "        ])"
   ]
  },
  {
   "cell_type": "code",
   "execution_count": 8,
   "metadata": {},
   "outputs": [
    {
     "data": {
      "text/plain": [
       "{'KeyPairs': [],\n",
       " 'ResponseMetadata': {'RequestId': 'bca4e57c-bd46-423e-91be-64307b7e12b0',\n",
       "  'HTTPStatusCode': 200,\n",
       "  'HTTPHeaders': {'x-amzn-requestid': 'bca4e57c-bd46-423e-91be-64307b7e12b0',\n",
       "   'cache-control': 'no-cache, no-store',\n",
       "   'strict-transport-security': 'max-age=31536000; includeSubDomains',\n",
       "   'content-type': 'text/xml;charset=UTF-8',\n",
       "   'content-length': '221',\n",
       "   'date': 'Tue, 23 Nov 2021 18:43:21 GMT',\n",
       "   'server': 'AmazonEC2'},\n",
       "  'RetryAttempts': 0}}"
      ]
     },
     "execution_count": 8,
     "metadata": {},
     "output_type": "execute_result"
    }
   ],
   "source": [
    "response"
   ]
  },
  {
   "cell_type": "code",
   "execution_count": 14,
   "metadata": {},
   "outputs": [
    {
     "name": "stdout",
     "output_type": "stream",
     "text": [
      "nfoi\n"
     ]
    }
   ],
   "source": [
    "if response[\"KeyPairs\"]:\n",
    "    print(\"foi\")\n",
    "else:\n",
    "    print(\"nfoi\")"
   ]
  },
  {
   "cell_type": "code",
   "execution_count": 3,
   "metadata": {},
   "outputs": [],
   "source": [
    "from blender import bcolors"
   ]
  },
  {
   "cell_type": "code",
   "execution_count": 11,
   "metadata": {},
   "outputs": [
    {
     "name": "stdout",
     "output_type": "stream",
     "text": [
      "\u001b[95mteste\u001b[0m\n"
     ]
    }
   ],
   "source": [
    "print(f\"{bcolors().HEADER}teste{bcolors().ENDC}\")"
   ]
  },
  {
   "cell_type": "code",
   "execution_count": 5,
   "metadata": {},
   "outputs": [],
   "source": [
    "teste = ec2.create_key_pair(KeyName=\"teste\")"
   ]
  },
  {
   "cell_type": "code",
   "execution_count": 7,
   "metadata": {},
   "outputs": [],
   "source": [
    "teste2 = ec2.delete_key_pair(KeyName=\"teste\")"
   ]
  },
  {
   "cell_type": "code",
   "execution_count": 8,
   "metadata": {},
   "outputs": [
    {
     "data": {
      "text/plain": [
       "{'ResponseMetadata': {'RequestId': '36d8afde-2c93-47e1-900c-95c0d8d67138',\n",
       "  'HTTPStatusCode': 200,\n",
       "  'HTTPHeaders': {'x-amzn-requestid': '36d8afde-2c93-47e1-900c-95c0d8d67138',\n",
       "   'cache-control': 'no-cache, no-store',\n",
       "   'strict-transport-security': 'max-age=31536000; includeSubDomains',\n",
       "   'content-type': 'text/xml;charset=UTF-8',\n",
       "   'content-length': '227',\n",
       "   'date': 'Tue, 23 Nov 2021 20:33:08 GMT',\n",
       "   'server': 'AmazonEC2'},\n",
       "  'RetryAttempts': 0}}"
      ]
     },
     "execution_count": 8,
     "metadata": {},
     "output_type": "execute_result"
    }
   ],
   "source": [
    "teste2"
   ]
  },
  {
   "cell_type": "code",
   "execution_count": 10,
   "metadata": {},
   "outputs": [
    {
     "data": {
      "text/plain": [
       "'3.17.126.189'"
      ]
     },
     "execution_count": 10,
     "metadata": {},
     "output_type": "execute_result"
    }
   ],
   "source": [
    "ec2.allocate_address()[\"PublicIp\"]"
   ]
  },
  {
   "cell_type": "code",
   "execution_count": 12,
   "metadata": {},
   "outputs": [
    {
     "name": "stdout",
     "output_type": "stream",
     "text": [
      "\n",
      "    lista : [1, 2, 3, 4]\n",
      "    \n"
     ]
    }
   ],
   "source": [
    "list = [1,2,3,4]\n",
    "\n",
    "print(\n",
    "    f\"\"\"\n",
    "    lista : {list}\n",
    "    \"\"\"\n",
    ")"
   ]
  },
  {
   "cell_type": "code",
   "execution_count": null,
   "metadata": {},
   "outputs": [],
   "source": []
  }
 ],
 "metadata": {
  "interpreter": {
   "hash": "aee8b7b246df8f9039afb4144a1f6fd8d2ca17a180786b69acc140d282b71a49"
  },
  "kernelspec": {
   "display_name": "Python 3.10.0 64-bit",
   "language": "python",
   "name": "python3"
  },
  "language_info": {
   "codemirror_mode": {
    "name": "ipython",
    "version": 3
   },
   "file_extension": ".py",
   "mimetype": "text/x-python",
   "name": "python",
   "nbconvert_exporter": "python",
   "pygments_lexer": "ipython3",
   "version": "3.10.0"
  },
  "orig_nbformat": 4
 },
 "nbformat": 4,
 "nbformat_minor": 2
}
